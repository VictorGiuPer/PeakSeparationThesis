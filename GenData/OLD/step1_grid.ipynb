{
 "cells": [
  {
   "cell_type": "markdown",
   "id": "9cd02668",
   "metadata": {},
   "source": [
    "**0. Imports**"
   ]
  },
  {
   "cell_type": "code",
   "execution_count": null,
   "id": "0cb5a067",
   "metadata": {},
   "outputs": [],
   "source": [
    "import numpy as np\n",
    "import pandas as pd\n",
    "import plotly.express as px\n",
    "import os"
   ]
  },
  {
   "cell_type": "markdown",
   "id": "0bc1ee37",
   "metadata": {},
   "source": [
    "**1. RT Sampling Points**\n",
    "- 10 - 15 with 100 intervals\n",
    "- Steps should be 0.05 but with variation of 0.06 and 0.04. In the end should add up to the end ofthe range."
   ]
  },
  {
   "cell_type": "code",
   "execution_count": 2,
   "id": "5e00d946",
   "metadata": {},
   "outputs": [],
   "source": [
    "# Function to create a linspace with variation (can change variation)\n",
    "def rt_variable_linspace(start: int, end: int, n_points: int, variation: float = 0.02):\n",
    "    n_intervals = n_points - 1\n",
    "    base_step = (end - start) / n_intervals\n",
    "    \n",
    "    # Create randomized variations around intervals\n",
    "    steps = []\n",
    "    for interval in range(n_intervals):\n",
    "        steps.append(np.random.uniform(base_step - variation, base_step + variation))\n",
    "\n",
    "    # Print out Check Overview\n",
    "    # print(f\"-----\\nChecks:\\nMean Stepsize: {np.mean(steps)}\\nSum of Stepsizes: {np.sum(steps)}\\n-----\")\n",
    "\n",
    "    # Build the list of points\n",
    "    points = np.cumsum(np.concatenate(([start], steps)))\n",
    "    \n",
    "    return points\n",
    "\n",
    "rt_sampling_points = rt_variable_linspace(10, 15, 100)"
   ]
  },
  {
   "cell_type": "markdown",
   "id": "d7b05fbf",
   "metadata": {},
   "source": [
    "**2. MZ Sampling Rate**\n",
    "- 150 - 160 with variable intervals\n",
    "- Steps should be 0.05 but with variation of 0.06 and 0.04. In the end should add up to the end ofthe range."
   ]
  },
  {
   "cell_type": "code",
   "execution_count": 3,
   "id": "0556ccae",
   "metadata": {},
   "outputs": [],
   "source": [
    "# Function to create a linspace with variation (can change variation)\n",
    "def mz_variable_linspace(start_mz: int, end_mz: int, min_steps: int, \n",
    "                         max_steps: int, steps_variation: float = 0.02):\n",
    "    \n",
    "    # Randomly choose n_intervals within range\n",
    "    n_intervals = np.random.randint(min_steps, max_steps)\n",
    "    \n",
    "    # print(f\"Number of Intervals: {n_intervals}\")\n",
    "\n",
    "    # Caluclate base step based on n_intervals\n",
    "    base_step = (end_mz - start_mz) / n_intervals\n",
    "    \n",
    "    # Generate step sizes with variation\n",
    "    steps = np.random.uniform(base_step - steps_variation, base_step + steps_variation, n_intervals)\n",
    "    \n",
    "    # Print out Check Overview\n",
    "    # print(f\"-----\\nChecks:\\nMean Stepsize: {np.mean(steps)}\\nSum of Stepsizes: {np.sum(steps)}\\n-----\")\n",
    "\n",
    "    # Build the list of points\n",
    "    points = np.cumsum(np.concatenate(([start_mz], steps)))\n",
    "    return points\n"
   ]
  },
  {
   "cell_type": "markdown",
   "id": "0e48c0b3",
   "metadata": {},
   "source": [
    "**3. Combine into Matrix (Grid)**"
   ]
  },
  {
   "cell_type": "code",
   "execution_count": 4,
   "id": "a8055859",
   "metadata": {},
   "outputs": [],
   "source": [
    "def create_grid(rt: np.ndarray):\n",
    "    combined_matrix = pd.DataFrame({\"rt\": rt})\n",
    "\n",
    "    mz_column = []\n",
    "    for rt_val in combined_matrix[\"rt\"]:\n",
    "        # Generate mz array for each rt\n",
    "        mz_array = mz_variable_linspace(start_mz=150, end_mz=160, min_steps=990, max_steps=1010)\n",
    "        mz_column.append(mz_array)\n",
    "\n",
    "    combined_matrix[\"mz\"] = mz_column\n",
    "    return combined_matrix\n",
    "\n",
    "grid = create_grid(rt=rt_sampling_points)\n"
   ]
  },
  {
   "cell_type": "markdown",
   "id": "1c029978",
   "metadata": {},
   "source": [
    "**4. Export Grid**"
   ]
  },
  {
   "cell_type": "code",
   "execution_count": 5,
   "id": "c8744eea",
   "metadata": {},
   "outputs": [
    {
     "name": "stdout",
     "output_type": "stream",
     "text": [
      "File saved as: grid_1.json\n"
     ]
    }
   ],
   "source": [
    "def save_grid(df, base_filename = \"grid\"):\n",
    "    # Start with the base filename\n",
    "    filename = f\"{base_filename}.json\"\n",
    "    counter = 1\n",
    "    \n",
    "    # Check if the file already exists and increment the counter if it does\n",
    "    while os.path.exists(filename):\n",
    "        filename = f\"{base_filename}_{counter}.json\"\n",
    "        counter += 1\n",
    "    \n",
    "    # Save the dataframe to the unique filename\n",
    "    df.to_json(filename, index=False)\n",
    "    print(f\"File saved as: {filename}\")\n",
    "\n",
    "save_grid(grid)"
   ]
  },
  {
   "cell_type": "markdown",
   "id": "7e6a5c83",
   "metadata": {},
   "source": [
    "okay great it works now. Now my supervisor mentioned some things that I cant make sense of yet. Remember in the end the goal is to create 2D gaussians. Help me understand what he meant:"
   ]
  }
 ],
 "metadata": {
  "kernelspec": {
   "display_name": "Python 3",
   "language": "python",
   "name": "python3"
  },
  "language_info": {
   "codemirror_mode": {
    "name": "ipython",
    "version": 3
   },
   "file_extension": ".py",
   "mimetype": "text/x-python",
   "name": "python",
   "nbconvert_exporter": "python",
   "pygments_lexer": "ipython3",
   "version": "3.11.3"
  }
 },
 "nbformat": 4,
 "nbformat_minor": 5
}
