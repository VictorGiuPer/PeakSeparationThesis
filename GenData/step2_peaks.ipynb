{
 "cells": [
  {
   "cell_type": "markdown",
   "id": "0a287d8e",
   "metadata": {},
   "source": [
    "**0. Imports**"
   ]
  },
  {
   "cell_type": "code",
   "execution_count": 111,
   "id": "e8360723",
   "metadata": {},
   "outputs": [],
   "source": [
    "import numpy as np\n",
    "import pandas as pd\n",
    "import matplotlib.pyplot as plt\n",
    "import ast"
   ]
  },
  {
   "cell_type": "markdown",
   "id": "094103c6",
   "metadata": {},
   "source": [
    "**1. Define PDF Function**"
   ]
  },
  {
   "cell_type": "code",
   "execution_count": 112,
   "id": "fcc17e45",
   "metadata": {},
   "outputs": [],
   "source": [
    "# Function to compute intensity values\n",
    "def gaussian_pdf(rt, mz_array, center_rt, center_mz, sigma_rt, sigma_mz, amplitude=1):\n",
    "    rt_gauss = np.exp(-0.5 * ((rt - center_rt) / sigma_rt) ** 2)\n",
    "    mz_gauss = np.exp(-0.5 * ((mz_array - center_mz) / sigma_mz) ** 2)\n",
    "    intensity = amplitude * rt_gauss * mz_gauss\n",
    "    return intensity"
   ]
  },
  {
   "cell_type": "markdown",
   "id": "71f168d9",
   "metadata": {},
   "source": [
    "**2. Define Gaussian Creation Function**"
   ]
  },
  {
   "cell_type": "code",
   "execution_count": null,
   "id": "4ce9d441",
   "metadata": {},
   "outputs": [],
   "source": [
    "def create_grid_with_gaussian(rt_axis: pd.Series, mz_axis: pd.Series, peak_params: list):\n",
    "    # Initialize empty list to store intensity values\n",
    "    intensities = []\n",
    "\n",
    "    # Loop through each rt value and the corresponding mz values\n",
    "    for rt_val, mz_array in zip(rt_axis, mz_axis):\n",
    "        # Convert mz array\n",
    "        mz_array = np.array(mz_array)\n",
    "\n",
    "        # Initialize intensity for this particular rt value (list of zeros)\n",
    "        row_intensity = np.zeros_like(mz_array, dtype=float)\n",
    "\n",
    "        # Compute intensity for each peak and accumulate it\n",
    "        for peak in peak_params:\n",
    "            rt_center = peak[\"rt_center\"]\n",
    "            mz_center = peak[\"mz_center\"]\n",
    "            rt_sigma = peak[\"rt_sigma\"]\n",
    "            mz_sigma = peak[\"mz_sigma\"]\n",
    "            amplitude = peak[\"amplitude\"]\n",
    "        \n",
    "            # Apply the Gaussian function for the current peak\n",
    "            peak_intensity = gaussian_pdf(rt_val, mz_array, rt_center, mz_center, rt_sigma, mz_sigma, amplitude)\n",
    "\n",
    "            # Add the peak intensities to the row's intensity\n",
    "            row_intensity += peak_intensity  # Sum intensities for this mz value\n",
    "\n",
    "        # Append the summed intensities for this row (as a list of values)\n",
    "        intensities.append(row_intensity.tolist())  # Convert to list\n",
    "\n",
    "    # Convert the intensities list to a DataFrame, with each rt value corresponding to a row\n",
    "    intensity_df = pd.DataFrame({\n",
    "        \"rt\": rt_axis,\n",
    "        \"mz\": mz_axis,\n",
    "        \"intensities\": intensities\n",
    "    })\n",
    "\n",
    "    return intensity_df\n"
   ]
  },
  {
   "cell_type": "markdown",
   "id": "31395a72",
   "metadata": {},
   "source": [
    "**3. Import Grid**"
   ]
  },
  {
   "cell_type": "code",
   "execution_count": 114,
   "id": "c99eed11",
   "metadata": {},
   "outputs": [
    {
     "data": {
      "text/html": [
       "<div>\n",
       "<style scoped>\n",
       "    .dataframe tbody tr th:only-of-type {\n",
       "        vertical-align: middle;\n",
       "    }\n",
       "\n",
       "    .dataframe tbody tr th {\n",
       "        vertical-align: top;\n",
       "    }\n",
       "\n",
       "    .dataframe thead th {\n",
       "        text-align: right;\n",
       "    }\n",
       "</style>\n",
       "<table border=\"1\" class=\"dataframe\">\n",
       "  <thead>\n",
       "    <tr style=\"text-align: right;\">\n",
       "      <th></th>\n",
       "      <th>rt</th>\n",
       "      <th>mz</th>\n",
       "    </tr>\n",
       "  </thead>\n",
       "  <tbody>\n",
       "    <tr>\n",
       "      <th>0</th>\n",
       "      <td>10.000000</td>\n",
       "      <td>[150.0, 150.0177835251, 150.0361831772, 150.04...</td>\n",
       "    </tr>\n",
       "    <tr>\n",
       "      <th>1</th>\n",
       "      <td>10.046676</td>\n",
       "      <td>[150.0, 149.9986225977, 150.0228173071, 150.01...</td>\n",
       "    </tr>\n",
       "    <tr>\n",
       "      <th>2</th>\n",
       "      <td>10.098219</td>\n",
       "      <td>[150.0, 150.0017192089, 150.029757481, 150.042...</td>\n",
       "    </tr>\n",
       "    <tr>\n",
       "      <th>3</th>\n",
       "      <td>10.134902</td>\n",
       "      <td>[150.0, 149.9997931667, 150.0282730933, 150.04...</td>\n",
       "    </tr>\n",
       "    <tr>\n",
       "      <th>4</th>\n",
       "      <td>10.166766</td>\n",
       "      <td>[150.0, 150.0040958935, 150.0066260195, 150.02...</td>\n",
       "    </tr>\n",
       "  </tbody>\n",
       "</table>\n",
       "</div>"
      ],
      "text/plain": [
       "          rt                                                 mz\n",
       "0  10.000000  [150.0, 150.0177835251, 150.0361831772, 150.04...\n",
       "1  10.046676  [150.0, 149.9986225977, 150.0228173071, 150.01...\n",
       "2  10.098219  [150.0, 150.0017192089, 150.029757481, 150.042...\n",
       "3  10.134902  [150.0, 149.9997931667, 150.0282730933, 150.04...\n",
       "4  10.166766  [150.0, 150.0040958935, 150.0066260195, 150.02..."
      ]
     },
     "execution_count": 114,
     "metadata": {},
     "output_type": "execute_result"
    }
   ],
   "source": [
    "# Import JSON Grid\n",
    "grid = pd.read_json(\"grid.json\")\n",
    "\n",
    "# Define Axes\n",
    "rt_axis = grid[\"rt\"]\n",
    "mz_axis = grid[\"mz\"]\n",
    "\n",
    "grid.head()"
   ]
  },
  {
   "cell_type": "markdown",
   "id": "7a15153c",
   "metadata": {},
   "source": [
    "**4. Define Gaussians**"
   ]
  },
  {
   "cell_type": "code",
   "execution_count": 115,
   "id": "0dc00816",
   "metadata": {},
   "outputs": [],
   "source": [
    "# Define peak height\n",
    "peak_height = 25067.0\n",
    "\n",
    "# Define peak params\n",
    "peak_params = [\n",
    "    {\"rt_center\": 11.5, \"mz_center\": 152.1, \"rt_sigma\": 0.1, \"mz_sigma\": 0.03, \"amplitude\": 10000},\n",
    "    {\"rt_center\": 12.0, \"mz_center\": 153.0, \"rt_sigma\": 0.15, \"mz_sigma\": 0.025, \"amplitude\": 25000},\n",
    "    {\"rt_center\": 13.0, \"mz_center\": 154.5, \"rt_sigma\": 0.2, \"mz_sigma\": 0.04, \"amplitude\": 18000},\n",
    "    # Adding more is possible\n",
    "]"
   ]
  },
  {
   "cell_type": "markdown",
   "id": "2c8ba5a2",
   "metadata": {},
   "source": [
    "**5. Generate Gaussians Inside Grid**"
   ]
  },
  {
   "cell_type": "code",
   "execution_count": 116,
   "id": "9260e8bb",
   "metadata": {},
   "outputs": [
    {
     "data": {
      "text/html": [
       "<div>\n",
       "<style scoped>\n",
       "    .dataframe tbody tr th:only-of-type {\n",
       "        vertical-align: middle;\n",
       "    }\n",
       "\n",
       "    .dataframe tbody tr th {\n",
       "        vertical-align: top;\n",
       "    }\n",
       "\n",
       "    .dataframe thead th {\n",
       "        text-align: right;\n",
       "    }\n",
       "</style>\n",
       "<table border=\"1\" class=\"dataframe\">\n",
       "  <thead>\n",
       "    <tr style=\"text-align: right;\">\n",
       "      <th></th>\n",
       "      <th>rt</th>\n",
       "      <th>mz</th>\n",
       "      <th>intensities</th>\n",
       "    </tr>\n",
       "  </thead>\n",
       "  <tbody>\n",
       "    <tr>\n",
       "      <th>0</th>\n",
       "      <td>10.000000</td>\n",
       "      <td>[150.0, 150.0177835251, 150.0361831772, 150.04...</td>\n",
       "      <td>[0.0, 0.0, 0.0, 0.0, 0.0, 0.0, 0.0, 0.0, 0.0, ...</td>\n",
       "    </tr>\n",
       "    <tr>\n",
       "      <th>1</th>\n",
       "      <td>10.046676</td>\n",
       "      <td>[150.0, 149.9986225977, 150.0228173071, 150.01...</td>\n",
       "      <td>[0.0, 0.0, 0.0, 0.0, 0.0, 0.0, 0.0, 0.0, 0.0, ...</td>\n",
       "    </tr>\n",
       "    <tr>\n",
       "      <th>2</th>\n",
       "      <td>10.098219</td>\n",
       "      <td>[150.0, 150.0017192089, 150.029757481, 150.042...</td>\n",
       "      <td>[0.0, 0.0, 0.0, 0.0, 0.0, 0.0, 0.0, 0.0, 0.0, ...</td>\n",
       "    </tr>\n",
       "    <tr>\n",
       "      <th>3</th>\n",
       "      <td>10.134902</td>\n",
       "      <td>[150.0, 149.9997931667, 150.0282730933, 150.04...</td>\n",
       "      <td>[0.0, 0.0, 0.0, 0.0, 0.0, 0.0, 0.0, 0.0, 0.0, ...</td>\n",
       "    </tr>\n",
       "    <tr>\n",
       "      <th>4</th>\n",
       "      <td>10.166766</td>\n",
       "      <td>[150.0, 150.0040958935, 150.0066260195, 150.02...</td>\n",
       "      <td>[0.0, 0.0, 0.0, 0.0, 0.0, 0.0, 0.0, 0.0, 0.0, ...</td>\n",
       "    </tr>\n",
       "  </tbody>\n",
       "</table>\n",
       "</div>"
      ],
      "text/plain": [
       "          rt                                                 mz  \\\n",
       "0  10.000000  [150.0, 150.0177835251, 150.0361831772, 150.04...   \n",
       "1  10.046676  [150.0, 149.9986225977, 150.0228173071, 150.01...   \n",
       "2  10.098219  [150.0, 150.0017192089, 150.029757481, 150.042...   \n",
       "3  10.134902  [150.0, 149.9997931667, 150.0282730933, 150.04...   \n",
       "4  10.166766  [150.0, 150.0040958935, 150.0066260195, 150.02...   \n",
       "\n",
       "                                         intensities  \n",
       "0  [0.0, 0.0, 0.0, 0.0, 0.0, 0.0, 0.0, 0.0, 0.0, ...  \n",
       "1  [0.0, 0.0, 0.0, 0.0, 0.0, 0.0, 0.0, 0.0, 0.0, ...  \n",
       "2  [0.0, 0.0, 0.0, 0.0, 0.0, 0.0, 0.0, 0.0, 0.0, ...  \n",
       "3  [0.0, 0.0, 0.0, 0.0, 0.0, 0.0, 0.0, 0.0, 0.0, ...  \n",
       "4  [0.0, 0.0, 0.0, 0.0, 0.0, 0.0, 0.0, 0.0, 0.0, ...  "
      ]
     },
     "execution_count": 116,
     "metadata": {},
     "output_type": "execute_result"
    }
   ],
   "source": [
    "grid_gaussians = create_grid_with_gaussian(rt_axis=rt_axis, \n",
    "                                           mz_axis=mz_axis, \n",
    "                                           peak_params=peak_params)\n",
    "\n",
    "grid_gaussians.head()"
   ]
  },
  {
   "cell_type": "markdown",
   "id": "1fc14be3",
   "metadata": {},
   "source": [
    "**6. Plot Results**"
   ]
  },
  {
   "cell_type": "code",
   "execution_count": 118,
   "id": "71bd134e",
   "metadata": {},
   "outputs": [
    {
     "data": {
      "image/png": "[encoded data removed]",
      "text/plain": [
       "<Figure size 1200x500 with 2 Axes>"
      ]
     },
     "metadata": {},
     "output_type": "display_data"
    }
   ],
   "source": [
    "def plot_heatmap_from_irregular_data(df, title=\"2D Gaussian Heatmap\", zoom=False, mz_points=1000):\n",
    "    import numpy as np\n",
    "    import matplotlib.pyplot as plt\n",
    "    from scipy.interpolate import interp1d\n",
    "\n",
    "    # Step 1: Get rt values (as X-axis)\n",
    "    rt_values = df[\"rt\"].values\n",
    "\n",
    "    # Step 2: Define a common mz grid over full range (Y-axis)\n",
    "    all_mz = np.concatenate(df[\"mz\"].values)\n",
    "    mz_min, mz_max = all_mz.min(), all_mz.max()\n",
    "    common_mz = np.linspace(mz_min, mz_max, mz_points)\n",
    "\n",
    "    # Step 3: Interpolate each mz-intensity pair to the common mz grid\n",
    "    interpolated_matrix = []\n",
    "    for mz, intensity in zip(df[\"mz\"], df[\"intensities\"]):\n",
    "        mz = np.array(mz)\n",
    "        intensity = np.array(intensity)\n",
    "\n",
    "        # Interpolate intensities onto the common mz grid\n",
    "        interp = interp1d(mz, intensity, kind='linear', bounds_error=False, fill_value=0)\n",
    "        interpolated_intensity = interp(common_mz)\n",
    "        interpolated_matrix.append(interpolated_intensity)\n",
    "\n",
    "    # Step 4: Convert list of arrays to a 2D numpy array\n",
    "    intensity_matrix = np.array(interpolated_matrix)\n",
    "\n",
    "    # Step 5: Plot the heatmap\n",
    "    plt.figure(figsize=(12, 5))\n",
    "    plt.imshow(intensity_matrix,\n",
    "               extent=[rt_values[0], rt_values[-1], common_mz[-1], common_mz[0]],\n",
    "               aspect='auto',\n",
    "               cmap='viridis')\n",
    "    plt.colorbar(label='Intensity')\n",
    "    plt.xlabel('Retention Time (min)')\n",
    "    plt.ylabel('mz (Da)')\n",
    "    plt.title(title)\n",
    "\n",
    "    # Optional zoom\n",
    "    if zoom:\n",
    "        plt.xlim(zoom.get('xlim', (rt_values[0], rt_values[-1])))\n",
    "        plt.ylim(zoom.get('ylim', (common_mz[0], common_mz[-1])))\n",
    "\n",
    "    plt.show()\n",
    "\n",
    "plot_heatmap_from_irregular_data(df=grid_gaussians)"
   ]
  }
 ],
 "metadata": {
  "kernelspec": {
   "display_name": "Python 3",
   "language": "python",
   "name": "python3"
  },
  "language_info": {
   "codemirror_mode": {
    "name": "ipython",
    "version": 3
   },
   "file_extension": ".py",
   "mimetype": "text/x-python",
   "name": "python",
   "nbconvert_exporter": "python",
   "pygments_lexer": "ipython3",
   "version": "3.11.3"
  }
 },
 "nbformat": 4,
 "nbformat_minor": 5
}
