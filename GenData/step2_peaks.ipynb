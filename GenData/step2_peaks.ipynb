{
 "cells": [
  {
   "cell_type": "markdown",
   "id": "0a287d8e",
   "metadata": {},
   "source": [
    "**0. Imports**"
   ]
  },
  {
   "cell_type": "code",
   "execution_count": 30,
   "id": "e8360723",
   "metadata": {},
   "outputs": [],
   "source": [
    "import numpy as np\n",
    "import pandas as pd\n",
    "import matplotlib.pyplot as plt\n",
    "import ast"
   ]
  },
  {
   "cell_type": "markdown",
   "id": "094103c6",
   "metadata": {},
   "source": [
    "**1. Define PDF Function**"
   ]
  },
  {
   "cell_type": "code",
   "execution_count": 31,
   "id": "fcc17e45",
   "metadata": {},
   "outputs": [],
   "source": [
    "# Function to compute intensity values\n",
    "def gaussian_pdf(rt, mz_array, center_rt, center_mz, sigma_rt, sigma_mz, amplitude=1):\n",
    "    rt_gauss = np.exp(-0.5 * ((rt - center_rt) / sigma_rt) ** 2)\n",
    "    mz_gauss = np.exp(-0.5 * ((mz_array - center_mz) / sigma_mz) ** 2)\n",
    "    intensity = amplitude * rt_gauss * mz_gauss\n",
    "    return intensity"
   ]
  },
  {
   "cell_type": "code",
   "execution_count": null,
   "id": "4ce9d441",
   "metadata": {},
   "outputs": [],
   "source": [
    "def create_grid_with_gaussian(rt_axis: pd.Series, mz_axis: pd.Series, peak_params: list, peak_height: float):\n",
    "    # Initialize empty list to store intensity values\n",
    "    intensities = []\n",
    "\n",
    "    # Loop through each rt value and the corresponding mz values\n",
    "    for rt_val, mz_array in zip(rt_axis, mz_axis):\n",
    "        # mz_array is already a list or numpy array, no need to parse it again\n",
    "        # If needed, ensure mz_array is a numpy array (if it's a list)\n",
    "        mz_array = np.array(mz_array)\n",
    "\n",
    "        # Initialize intensity array for this particular rt value\n",
    "        rt_intensities = np.zeros(len(mz_array))\n",
    "        \n",
    "        # Compute intensity for each peak and accumulate it\n",
    "        for peak in peak_params:\n",
    "            rt_center = peak[\"rt_center\"]\n",
    "            mz_center = peak[\"mz_center\"]\n",
    "            rt_sigma = peak[\"rt_sigma\"]\n",
    "            mz_sigma = peak[\"mz_sigma\"]\n",
    "            amplitude = peak[\"amplitude\"]\n",
    "\n",
    "            # Apply the Gaussian function for the current peak\n",
    "            peak_intensity = gaussian_pdf(rt_val, mz_array, rt_center, mz_center, rt_sigma, mz_sigma, amplitude)\n",
    "\n",
    "            # Add the peak intensity to the total intensity\n",
    "            rt_intensities += peak_intensity\n",
    "        \n",
    "        # Append the calculated intensities to the list\n",
    "        intensities.append(rt_intensities)\n",
    "\n",
    "    # Convert the intensities list to a DataFrame, with each rt value corresponding to a row\n",
    "    intensity_df = pd.DataFrame(intensities, columns=[f\"mz_{i}\" for i in range(len(mz_array))])\n",
    "\n",
    "    # Add the rt values as a new column to the DataFrame\n",
    "    intensity_df[\"rt\"] = rt_axis\n",
    "\n",
    "    # Set the rt values as the index of the DataFrame\n",
    "    intensity_df.set_index(\"rt\", inplace=True)\n",
    "\n",
    "    return intensity_df"
   ]
  },
  {
   "cell_type": "markdown",
   "id": "31395a72",
   "metadata": {},
   "source": [
    "**1. Define Gaussian Parameters**"
   ]
  },
  {
   "cell_type": "code",
   "execution_count": 35,
   "id": "c99eed11",
   "metadata": {},
   "outputs": [],
   "source": [
    "grid = pd.read_json(\"grid.json\")\n",
    "\n",
    "rt_axis = grid[\"rt\"]\n",
    "mz_axis = grid[\"mz\"]\n",
    "peak_height = 25067.0\n",
    "peak_params = [\n",
    "    {\"rt_center\": 11.5, \"mz_center\": 152.1, \"rt_sigma\": 0.1, \"mz_sigma\": 0.03, \"amplitude\": 10000},\n",
    "    {\"rt_center\": 12.0, \"mz_center\": 153.0, \"rt_sigma\": 0.15, \"mz_sigma\": 0.025, \"amplitude\": 25000},\n",
    "    {\"rt_center\": 13.0, \"mz_center\": 154.5, \"rt_sigma\": 0.2, \"mz_sigma\": 0.04, \"amplitude\": 18000},\n",
    "    # Adding more is possible\n",
    "]\n"
   ]
  },
  {
   "cell_type": "code",
   "execution_count": 43,
   "id": "9260e8bb",
   "metadata": {},
   "outputs": [
    {
     "name": "stdout",
     "output_type": "stream",
     "text": [
      "           mz_0  mz_1  mz_2  mz_3  mz_4  mz_5  mz_6  mz_7  mz_8  mz_9  ...  \\\n",
      "rt                                                                     ...   \n",
      "10.000000   0.0   0.0   0.0   0.0   0.0   0.0   0.0   0.0   0.0   0.0  ...   \n",
      "10.046676   0.0   0.0   0.0   0.0   0.0   0.0   0.0   0.0   0.0   0.0  ...   \n",
      "10.098219   0.0   0.0   0.0   0.0   0.0   0.0   0.0   0.0   0.0   0.0  ...   \n",
      "10.134902   0.0   0.0   0.0   0.0   0.0   0.0   0.0   0.0   0.0   0.0  ...   \n",
      "10.166766   0.0   0.0   0.0   0.0   0.0   0.0   0.0   0.0   0.0   0.0  ...   \n",
      "\n",
      "           mz_1000  mz_1001  mz_1002  mz_1003  mz_1004  mz_1005  mz_1006  \\\n",
      "rt                                                                         \n",
      "10.000000      0.0      0.0      0.0      0.0      NaN      NaN      NaN   \n",
      "10.046676      0.0      0.0      0.0      0.0      0.0      0.0      NaN   \n",
      "10.098219      NaN      NaN      NaN      NaN      NaN      NaN      NaN   \n",
      "10.134902      0.0      0.0      0.0      0.0      NaN      NaN      NaN   \n",
      "10.166766      0.0      0.0      0.0      0.0      0.0      0.0      0.0   \n",
      "\n",
      "           mz_1007  mz_1008  mz_1009  \n",
      "rt                                    \n",
      "10.000000      NaN      NaN      NaN  \n",
      "10.046676      NaN      NaN      NaN  \n",
      "10.098219      NaN      NaN      NaN  \n",
      "10.134902      NaN      NaN      NaN  \n",
      "10.166766      0.0      0.0      0.0  \n",
      "\n",
      "[5 rows x 1010 columns]\n"
     ]
    }
   ],
   "source": [
    "grid_with_intensity = create_grid_with_gaussian(rt_axis=rt_axis, mz_axis=mz_axis, \n",
    "                                                peak_params=peak_params, peak_height=peak_height)\n",
    "\n",
    "print(grid_with_intensity.head())"
   ]
  }
 ],
 "metadata": {
  "kernelspec": {
   "display_name": "Python 3",
   "language": "python",
   "name": "python3"
  },
  "language_info": {
   "codemirror_mode": {
    "name": "ipython",
    "version": 3
   },
   "file_extension": ".py",
   "mimetype": "text/x-python",
   "name": "python",
   "nbconvert_exporter": "python",
   "pygments_lexer": "ipython3",
   "version": "3.11.3"
  }
 },
 "nbformat": 4,
 "nbformat_minor": 5
}
